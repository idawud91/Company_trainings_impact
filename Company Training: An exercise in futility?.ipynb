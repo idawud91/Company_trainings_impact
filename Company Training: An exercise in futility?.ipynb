{
 "cells": [
  {
   "cell_type": "markdown",
   "id": "96745d36",
   "metadata": {},
   "source": [
    "# Are company trainings worthwhile? A look at their impact on training and engagement. \n",
    "\n",
    "I'm sure we can all relate to exceptional dullness of those old school workplace trainings, typically required on the first day of a new job. They're usually related to policy, look like they were filmed in the 1980s and tend to aggressively apply awful alliteration. Now, don't get me wrong, I love a bit of nostalgia, but do they really do anything? Surely, corporate trainings must have some benefit, especially if they're job relevant and not just busy-work on your first day, right?\n",
    "\n",
    "Well, let's make a quick distinction: I'm sure you could put a solid ROI on the compliance trainings, these limit liabilitis and probably save most companies quite a bit in the long-term. But what about trainings geared towards employee development and growth?\n",
    "\n",
    "In theory, these trainings should result in new skills, awareness of current trends in a given field, increased expsoure to the business for employees outside of operations and even networking/collaboration opportunities.\n",
    "In terms of measureable impacts, these trainings should positively impact an individual's performance (again, theoretically). If nothing else, they should give employees a sense of growth and positively impact engagement. I'm going to test this to see what impact, if any, a company training has on these two metrics.\n",
    "\n",
    "https://www.kaggle.com/datasets/jash312/hr-employee-attrition-datasets?resource=download&select=HR+Employee+data.csv\n"
   ]
  },
  {
   "cell_type": "code",
   "execution_count": 9,
   "id": "6e875109",
   "metadata": {},
   "outputs": [],
   "source": [
    "\n",
    "import pandas as pd ### Starting off by pulling in Pandas (i.e \"ol' reliable\") as I know I'll need it, along with Numpy and Matplot \n",
    "import numpy as np\n",
    "from matplotlib import pyplot as plt\n",
    "\n",
    "df = pd.read_csv(r\"C:\\Users\\Ian\\Desktop\\HR Employee data.csv\")"
   ]
  },
  {
   "cell_type": "code",
   "execution_count": 10,
   "id": "fcf1ad85",
   "metadata": {},
   "outputs": [
    {
     "data": {
      "text/plain": [
       "Index(['EmployeeID', 'JoiningYear', 'Age', 'BusinessTravel', 'DailyRate',\n",
       "       'Department', 'DistanceFromHome', 'EducationField', 'EmployeeCount',\n",
       "       'EmployeeNumber', 'EnvironmentSatisfaction', 'Gender', 'HourlyRate',\n",
       "       'JobInvolvement', 'JobSatisfaction', 'MaritalStatus', 'MonthlyIncome',\n",
       "       'MonthlyRate', 'NumCompaniesWorked', 'Over18', 'OverTime',\n",
       "       'PercentSalaryHike', 'PerformanceRating', 'RelationshipSatisfaction',\n",
       "       'StandardHours', 'StockOptionLevel', 'TotalWorkingYears',\n",
       "       'TrainingTimesLastYear', 'WorkLifeBalance', 'YearsAtCompany',\n",
       "       'YearsInCurrentRole', 'YearsSinceLastPromotion', 'YearsWithCurrManager',\n",
       "       'Attrition', 'LeavingYear', 'Reason', 'RelievingStatus', 'office_code',\n",
       "       'JobLevel_updated'],\n",
       "      dtype='object')"
      ]
     },
     "execution_count": 10,
     "metadata": {},
     "output_type": "execute_result"
    }
   ],
   "source": [
    "df.columns"
   ]
  },
  {
   "cell_type": "markdown",
   "id": "a2670fcf",
   "metadata": {},
   "source": [
    "\n",
    "## First Look\n",
    "\n",
    "I'm starting off by looking through the columns; I already know there are several I don't need and I'd like to keep the dataframe organized. There are quite a few, many of which could be interesting to include in the analysis. However, to avoid the rabbit hole of scope creep and for the purposes of this analysis, I'll stick with a few basic ones:\n",
    "1. Job Satisifaction and JobInvolvement - I'm assuming these are self-reported figures from an employee survey. Though not specifically called out as measures of engagement in the dataset's Kaggle page, both are elements of employee engagement. As such, I will use them as a proxy for engagement in the form of a new variable.\n",
    "\n",
    "2. PerformanceRating - This will be used as a performance indiactor. Although it is likely based on managers' subjective assessments of their direct reports, it does serve as a standardized scale for cross-departmental comparison.\n",
    "3. TrainingTimesLastYear - This is my training variable. \n",
    "4. Joblevel_updated - This may be useful, I may want to segment by job level. It's fair to assume that even though there's a universal rating scale across the company, an executive would not be evaluated on the same criteria as an entry-level employee. "
   ]
  },
  {
   "cell_type": "code",
   "execution_count": 11,
   "id": "1d985e6f",
   "metadata": {},
   "outputs": [
    {
     "data": {
      "text/html": [
       "<div>\n",
       "<style scoped>\n",
       "    .dataframe tbody tr th:only-of-type {\n",
       "        vertical-align: middle;\n",
       "    }\n",
       "\n",
       "    .dataframe tbody tr th {\n",
       "        vertical-align: top;\n",
       "    }\n",
       "\n",
       "    .dataframe thead th {\n",
       "        text-align: right;\n",
       "    }\n",
       "</style>\n",
       "<table border=\"1\" class=\"dataframe\">\n",
       "  <thead>\n",
       "    <tr style=\"text-align: right;\">\n",
       "      <th></th>\n",
       "      <th>JobSatisfaction</th>\n",
       "      <th>JobInvolvement</th>\n",
       "      <th>PerformanceRating</th>\n",
       "      <th>TrainingTimesLastYear</th>\n",
       "    </tr>\n",
       "  </thead>\n",
       "  <tbody>\n",
       "    <tr>\n",
       "      <th>count</th>\n",
       "      <td>13423.000000</td>\n",
       "      <td>13423.00000</td>\n",
       "      <td>13423.000000</td>\n",
       "      <td>13423.000000</td>\n",
       "    </tr>\n",
       "    <tr>\n",
       "      <th>mean</th>\n",
       "      <td>2.388214</td>\n",
       "      <td>2.46316</td>\n",
       "      <td>3.108247</td>\n",
       "      <td>2.454518</td>\n",
       "    </tr>\n",
       "    <tr>\n",
       "      <th>std</th>\n",
       "      <td>0.956279</td>\n",
       "      <td>0.66039</td>\n",
       "      <td>0.667023</td>\n",
       "      <td>1.069622</td>\n",
       "    </tr>\n",
       "    <tr>\n",
       "      <th>min</th>\n",
       "      <td>1.000000</td>\n",
       "      <td>1.00000</td>\n",
       "      <td>1.000000</td>\n",
       "      <td>0.000000</td>\n",
       "    </tr>\n",
       "    <tr>\n",
       "      <th>25%</th>\n",
       "      <td>2.000000</td>\n",
       "      <td>2.00000</td>\n",
       "      <td>3.000000</td>\n",
       "      <td>2.000000</td>\n",
       "    </tr>\n",
       "    <tr>\n",
       "      <th>50%</th>\n",
       "      <td>2.000000</td>\n",
       "      <td>3.00000</td>\n",
       "      <td>3.000000</td>\n",
       "      <td>2.000000</td>\n",
       "    </tr>\n",
       "    <tr>\n",
       "      <th>75%</th>\n",
       "      <td>3.000000</td>\n",
       "      <td>3.00000</td>\n",
       "      <td>3.000000</td>\n",
       "      <td>3.000000</td>\n",
       "    </tr>\n",
       "    <tr>\n",
       "      <th>max</th>\n",
       "      <td>4.000000</td>\n",
       "      <td>4.00000</td>\n",
       "      <td>5.000000</td>\n",
       "      <td>6.000000</td>\n",
       "    </tr>\n",
       "  </tbody>\n",
       "</table>\n",
       "</div>"
      ],
      "text/plain": [
       "       JobSatisfaction  JobInvolvement  PerformanceRating  \\\n",
       "count     13423.000000     13423.00000       13423.000000   \n",
       "mean          2.388214         2.46316           3.108247   \n",
       "std           0.956279         0.66039           0.667023   \n",
       "min           1.000000         1.00000           1.000000   \n",
       "25%           2.000000         2.00000           3.000000   \n",
       "50%           2.000000         3.00000           3.000000   \n",
       "75%           3.000000         3.00000           3.000000   \n",
       "max           4.000000         4.00000           5.000000   \n",
       "\n",
       "       TrainingTimesLastYear  \n",
       "count           13423.000000  \n",
       "mean                2.454518  \n",
       "std                 1.069622  \n",
       "min                 0.000000  \n",
       "25%                 2.000000  \n",
       "50%                 2.000000  \n",
       "75%                 3.000000  \n",
       "max                 6.000000  "
      ]
     },
     "execution_count": 11,
     "metadata": {},
     "output_type": "execute_result"
    }
   ],
   "source": [
    "df = pd.concat([df[\"JobSatisfaction\"], df[\"JobInvolvement\"], df[\"PerformanceRating\"],df[\"TrainingTimesLastYear\"], df[\"JobLevel_updated\"]], axis = 1)\n",
    "df.describe()"
   ]
  },
  {
   "cell_type": "markdown",
   "id": "70586305",
   "metadata": {},
   "source": [
    "Based on the above, there are a few things that stand out:\n",
    "1. The engagement scores (i.e., \"JobSatisifaction\" and \"JobInvolvement\") are on a scale of 1-4. This response scale isn't unheard of, but it does limit how much flexibility survey respondents have when answering the question. By including an even-numbered response scale there's no middle ground. It effectively makes the options \"Good\" (3-4) and \"Bad\" (1-2).\n",
    "1. It looks like the vast majority of employees have a performance rating of 3 out of 5. In my experience, this heavy centrality is common in large companies, which you'd expect to a certain extent, but we can see there's very little deviation from that. In fact, you could almost consider ratings of 1, 2, 4, and 5 to be outliers. \n",
    "2. It also looks like the majority of employees have had some type of training. \n",
    "\n",
    "\n",
    "Ok, so now that I've got my data set I can get into some analyses. As a reminder, I'm testing two different hypotheses:\n",
    "a. Employees with a higher number of trainings in the past year should have, on average, higher performance ratings.\n",
    "b. Employees with a higher number of trainings in the past year should have, on average, higher engagement scores.\n",
    "\n",
    "However, before I get into the testing, I'll want to make sure I'm working with some normally distributed data. "
   ]
  },
  {
   "cell_type": "markdown",
   "id": "8634f069",
   "metadata": {},
   "source": [
    "# Performance and Training: Testing for Normality"
   ]
  },
  {
   "cell_type": "code",
   "execution_count": 12,
   "id": "0beefaf2",
   "metadata": {},
   "outputs": [
    {
     "data": {
      "image/png": "[encoded data removed]",
      "text/plain": [
       "<Figure size 640x480 with 1 Axes>"
      ]
     },
     "metadata": {},
     "output_type": "display_data"
    }
   ],
   "source": [
    "bins = np.arange(8) - 0.5                        ### Starting off with just a visual inspection of the distribution \n",
    "plt.hist(df[\"PerformanceRating\"], \n",
    "         bins, color = \"#0F0FF9\", \n",
    "         edgecolor = \"white\")\n",
    "plt.title(\"Distribution of Performance Ratings\")\n",
    "plt.xticks(range(8))\n",
    "\n",
    "plt.show()"
   ]
  },
  {
   "cell_type": "markdown",
   "id": "f0ee5969",
   "metadata": {},
   "source": [
    "If you've ever googled \"leptokurtic distribution\" then the chart from above probably looks familiar. Just to be thorough, I'll test for normality.\n",
    "\n",
    "I can try to apply a transformation as well, but with this level of excess kurtosis, the disribution is unlikely to be very malleable. \n"
   ]
  },
  {
   "cell_type": "code",
   "execution_count": 13,
   "id": "7f58e2f6",
   "metadata": {},
   "outputs": [],
   "source": [
    "def nor(var): #Using a custom fuction for normality testing. I'll be testing this at least a couple times and I like a consistent and unambiguous output.  \n",
    "    test = stats.normaltest(var)\n",
    "    if (test.pvalue<=.05):\n",
    "        print(\" p-value =\", test.pvalue, \"\\n\",\"This is a non-normal distribution\")\n",
    "    else:\n",
    "        print(\"p-value =\", test.pvalue, \"\\n\", \" .01, this is a normal distribution\" )"
   ]
  },
  {
   "cell_type": "code",
   "execution_count": 15,
   "id": "0b9aa00c",
   "metadata": {},
   "outputs": [
    {
     "name": "stdout",
     "output_type": "stream",
     "text": [
      " p-value = 0.0 \n",
      " This is a non-normal distribution\n"
     ]
    }
   ],
   "source": [
    "from scipy import stats\n",
    "nor(df[\"PerformanceRating\"]) ### Not normal, not suprised."
   ]
  },
  {
   "cell_type": "code",
   "execution_count": 16,
   "id": "25c4604b",
   "metadata": {},
   "outputs": [
    {
     "name": "stdout",
     "output_type": "stream",
     "text": [
      " p-value = 0.0 \n",
      " This is a non-normal distribution\n"
     ]
    },
    {
     "data": {
      "image/png": "[encoded data removed]",
      "text/plain": [
       "<Figure size 640x480 with 1 Axes>"
      ]
     },
     "metadata": {},
     "output_type": "display_data"
    }
   ],
   "source": [
    "np.log10(df[\"PerformanceRating\"]).hist(color = \"#0F0FF9\", edgecolor = \"white\") ### Using a log10 transoformation here which should help \n",
    "plt.title(\"Distribution of Performance Ratings (Log10 Transformation)\"), \n",
    "\n",
    "\n",
    "nor(np.log10(df[\"PerformanceRating\"])) "
   ]
  },
  {
   "cell_type": "markdown",
   "id": "dceaf2a0",
   "metadata": {},
   "source": [
    "The transformation certainly did not help, and in retrospect probably wasn't worth the time it took to try it. This is an unfortunate distribution, analytically speaking and in terms of the actual performance appraisals. \n",
    "The fact that such a small proportion of the employee population is above or below the mid-point suggests a couple factors might be at play here:\n",
    "1. There are unclear evaluation guidelines. Managers are unsure how they can distinguish between an employee who \"Meets Expectations\" vs. ones who are \"Above Expectations\", for example. So, to avoid issues, the managers may be \"playing it safe\" and rating employees in the middle. \n",
    "2. Managers may have the correct guidence on how to distinguish but not know how to implement it. In other words, they may not feel comfortable explaining to their employees why they might be at a 1 or 2, so instead they just put them at a 3. \n",
    "3. Finally, it could be that performance appraisals are not taken too seriously at this company, that leaders just enter a middle-ground rating to satisfy the requirements of their roles, without much thought. \n",
    "\n",
    "To be clear, the issue here isn't necessarily the non-normality of the distribution. The issue is that this set of ratings is effectively all 3s with some outliers. If I want to use this as a potential indicator of training impact, I'll have to take a different approach. \n"
   ]
  },
  {
   "cell_type": "markdown",
   "id": "56f2e733",
   "metadata": {},
   "source": [
    "## A different approach"
   ]
  },
  {
   "cell_type": "markdown",
   "id": "8dc15e5a",
   "metadata": {},
   "source": [
    "Given the issues with these ratings, my next best bet is probably stratification. \n",
    "Even though there's a common rating scale, there should be different levels of proficiency for each level of seniorty. e.g., Directors are likely evaluated against different standards than entry-level analysts, for example. I'll use the job level variable to see if I can get a more test-friendly sample. "
   ]
  },
  {
   "cell_type": "code",
   "execution_count": 18,
   "id": "9c5a0a1c",
   "metadata": {},
   "outputs": [
    {
     "data": {
      "text/plain": [
       "JobLevel_updated\n",
       "L1                  5933\n",
       "L2                  4432\n",
       "L3                  1649\n",
       "L4                   762\n",
       "L5                   449\n",
       "L6                   190\n",
       "L7                     8\n",
       "Name: count, dtype: int64"
      ]
     },
     "execution_count": 18,
     "metadata": {},
     "output_type": "execute_result"
    }
   ],
   "source": [
    "pd.DataFrame(df[\"JobLevel_updated\"]).value_counts()"
   ]
  },
  {
   "cell_type": "markdown",
   "id": "aa460269",
   "metadata": {},
   "source": [
    "\n",
    "It looks like L1 + L2 employees represent almost 80% of the company, so I'll continue the analysis focusing on just these two employee groups which should hopefully limit some of the leptokurtosis . \n"
   ]
  },
  {
   "cell_type": "code",
   "execution_count": 21,
   "id": "79769523",
   "metadata": {},
   "outputs": [
    {
     "data": {
      "text/html": [
       "<div>\n",
       "<style scoped>\n",
       "    .dataframe tbody tr th:only-of-type {\n",
       "        vertical-align: middle;\n",
       "    }\n",
       "\n",
       "    .dataframe tbody tr th {\n",
       "        vertical-align: top;\n",
       "    }\n",
       "\n",
       "    .dataframe thead th {\n",
       "        text-align: right;\n",
       "    }\n",
       "</style>\n",
       "<table border=\"1\" class=\"dataframe\">\n",
       "  <thead>\n",
       "    <tr style=\"text-align: right;\">\n",
       "      <th></th>\n",
       "      <th>JobSatisfaction</th>\n",
       "      <th>JobInvolvement</th>\n",
       "      <th>PerformanceRating</th>\n",
       "      <th>TrainingTimesLastYear</th>\n",
       "    </tr>\n",
       "  </thead>\n",
       "  <tbody>\n",
       "    <tr>\n",
       "      <th>count</th>\n",
       "      <td>10365.000000</td>\n",
       "      <td>10365.000000</td>\n",
       "      <td>10365.000000</td>\n",
       "      <td>10365.000000</td>\n",
       "    </tr>\n",
       "    <tr>\n",
       "      <th>mean</th>\n",
       "      <td>2.389098</td>\n",
       "      <td>2.466667</td>\n",
       "      <td>3.118090</td>\n",
       "      <td>2.465123</td>\n",
       "    </tr>\n",
       "    <tr>\n",
       "      <th>std</th>\n",
       "      <td>0.952448</td>\n",
       "      <td>0.666921</td>\n",
       "      <td>0.700351</td>\n",
       "      <td>1.083482</td>\n",
       "    </tr>\n",
       "    <tr>\n",
       "      <th>min</th>\n",
       "      <td>1.000000</td>\n",
       "      <td>1.000000</td>\n",
       "      <td>1.000000</td>\n",
       "      <td>0.000000</td>\n",
       "    </tr>\n",
       "    <tr>\n",
       "      <th>25%</th>\n",
       "      <td>2.000000</td>\n",
       "      <td>2.000000</td>\n",
       "      <td>3.000000</td>\n",
       "      <td>2.000000</td>\n",
       "    </tr>\n",
       "    <tr>\n",
       "      <th>50%</th>\n",
       "      <td>2.000000</td>\n",
       "      <td>3.000000</td>\n",
       "      <td>3.000000</td>\n",
       "      <td>2.000000</td>\n",
       "    </tr>\n",
       "    <tr>\n",
       "      <th>75%</th>\n",
       "      <td>3.000000</td>\n",
       "      <td>3.000000</td>\n",
       "      <td>3.000000</td>\n",
       "      <td>3.000000</td>\n",
       "    </tr>\n",
       "    <tr>\n",
       "      <th>max</th>\n",
       "      <td>4.000000</td>\n",
       "      <td>4.000000</td>\n",
       "      <td>5.000000</td>\n",
       "      <td>6.000000</td>\n",
       "    </tr>\n",
       "  </tbody>\n",
       "</table>\n",
       "</div>"
      ],
      "text/plain": [
       "       JobSatisfaction  JobInvolvement  PerformanceRating  \\\n",
       "count     10365.000000    10365.000000       10365.000000   \n",
       "mean          2.389098        2.466667           3.118090   \n",
       "std           0.952448        0.666921           0.700351   \n",
       "min           1.000000        1.000000           1.000000   \n",
       "25%           2.000000        2.000000           3.000000   \n",
       "50%           2.000000        3.000000           3.000000   \n",
       "75%           3.000000        3.000000           3.000000   \n",
       "max           4.000000        4.000000           5.000000   \n",
       "\n",
       "       TrainingTimesLastYear  \n",
       "count           10365.000000  \n",
       "mean                2.465123  \n",
       "std                 1.083482  \n",
       "min                 0.000000  \n",
       "25%                 2.000000  \n",
       "50%                 2.000000  \n",
       "75%                 3.000000  \n",
       "max                 6.000000  "
      ]
     },
     "execution_count": 21,
     "metadata": {},
     "output_type": "execute_result"
    }
   ],
   "source": [
    "L12_df = df[(df[\"JobLevel_updated\"] == \"L1\") | (df[\"JobLevel_updated\"] == \"L2\")]\n",
    "L12_df.describe()"
   ]
  },
  {
   "cell_type": "code",
   "execution_count": 23,
   "id": "83b4964a",
   "metadata": {},
   "outputs": [
    {
     "data": {
      "text/plain": [
       "(Text(0.5, 1.0, 'Distribution of Performance Ratings\\n(L1 + L2 Employees Only)'),)"
      ]
     },
     "execution_count": 23,
     "metadata": {},
     "output_type": "execute_result"
    },
    {
     "data": {
      "image/png": "[encoded data removed]",
      "text/plain": [
       "<Figure size 640x480 with 1 Axes>"
      ]
     },
     "metadata": {},
     "output_type": "display_data"
    }
   ],
   "source": [
    "pr = L12_df[\"PerformanceRating\"] #Creating a variable for this so that it's easier to call \n",
    "\n",
    "pr.hist(bins = bins, color = \"#0F0FF9\", edgecolor = \"white\")\n",
    "plt.title(\"Distribution of Performance Ratings\"+\"\\n\"+\"(L1 + L2 Employees Only)\"), "
   ]
  },
  {
   "cell_type": "markdown",
   "id": "79740889",
   "metadata": {},
   "source": [
    "This is still a non-normal distribution. If I want to test for differences in performance ratings across training groups, I'll need to use a non-parametric test. the Mann–Whitney U test should do the trick as these are independent groups. But first, I want to see what the average ratings are across different levels of training. \n",
    "\n"
   ]
  },
  {
   "cell_type": "code",
   "execution_count": 24,
   "id": "688002bd",
   "metadata": {},
   "outputs": [
    {
     "data": {
      "text/html": [
       "<div>\n",
       "<style scoped>\n",
       "    .dataframe tbody tr th:only-of-type {\n",
       "        vertical-align: middle;\n",
       "    }\n",
       "\n",
       "    .dataframe tbody tr th {\n",
       "        vertical-align: top;\n",
       "    }\n",
       "\n",
       "    .dataframe thead th {\n",
       "        text-align: right;\n",
       "    }\n",
       "</style>\n",
       "<table border=\"1\" class=\"dataframe\">\n",
       "  <thead>\n",
       "    <tr style=\"text-align: right;\">\n",
       "      <th></th>\n",
       "      <th>PerformanceRating</th>\n",
       "    </tr>\n",
       "    <tr>\n",
       "      <th>TrainingTimesLastYear</th>\n",
       "      <th></th>\n",
       "    </tr>\n",
       "  </thead>\n",
       "  <tbody>\n",
       "    <tr>\n",
       "      <th>0</th>\n",
       "      <td>3.23</td>\n",
       "    </tr>\n",
       "    <tr>\n",
       "      <th>1</th>\n",
       "      <td>3.11</td>\n",
       "    </tr>\n",
       "    <tr>\n",
       "      <th>2</th>\n",
       "      <td>3.12</td>\n",
       "    </tr>\n",
       "    <tr>\n",
       "      <th>3</th>\n",
       "      <td>3.10</td>\n",
       "    </tr>\n",
       "    <tr>\n",
       "      <th>4</th>\n",
       "      <td>3.13</td>\n",
       "    </tr>\n",
       "    <tr>\n",
       "      <th>5</th>\n",
       "      <td>3.12</td>\n",
       "    </tr>\n",
       "    <tr>\n",
       "      <th>6</th>\n",
       "      <td>3.09</td>\n",
       "    </tr>\n",
       "  </tbody>\n",
       "</table>\n",
       "</div>"
      ],
      "text/plain": [
       "                       PerformanceRating\n",
       "TrainingTimesLastYear                   \n",
       "0                                   3.23\n",
       "1                                   3.11\n",
       "2                                   3.12\n",
       "3                                   3.10\n",
       "4                                   3.13\n",
       "5                                   3.12\n",
       "6                                   3.09"
      ]
     },
     "execution_count": 24,
     "metadata": {},
     "output_type": "execute_result"
    }
   ],
   "source": [
    "pd.DataFrame(L12_df[\"PerformanceRating\"].groupby(L12_df[\"TrainingTimesLastYear\"]).mean().round(2)) # Grouping but the number of training sessions attended. "
   ]
  },
  {
   "cell_type": "markdown",
   "id": "c03e5352",
   "metadata": {},
   "source": [
    "If trainings did impact ratings, I would expect to see an increase in average ratings as the number of trainings increase. But at first glance, the ratings across all training groups is very close. Interestingly, those with zero trainings have the highest average performance rating, though not by much. At this point, I can probably say that that training doesn't seem to improve performance. However, I'll still test for significance just to make sure that this take-away holds water.\n"
   ]
  },
  {
   "cell_type": "code",
   "execution_count": 25,
   "id": "46617e3a",
   "metadata": {},
   "outputs": [
    {
     "name": "stdout",
     "output_type": "stream",
     "text": [
      "Employees with 0 Trainings have an average performance rating of 3.23 \n",
      " vs Employees with 1 Training(s) who have an average of 3.09 \n",
      " Test Statistic: 238156.0 p-value: 0.0 \n",
      "\n",
      "Employees with 0 Trainings have an average performance rating of 3.23 \n",
      " vs Employees with 2 Training(s) who have an average of 3.12 \n",
      " Test Statistic: 1340512.0 p-value: 0.001 \n",
      "\n",
      "Employees with 0 Trainings have an average performance rating of 3.23 \n",
      " vs Employees with 3 Training(s) who have an average of 3.09 \n",
      " Test Statistic: 770556.0 p-value: 0.0 \n",
      "\n",
      "Employees with 0 Trainings have an average performance rating of 3.23 \n",
      " vs Employees with 4 Training(s) who have an average of 3.11 \n",
      " Test Statistic: 256315.5 p-value: 0.001 \n",
      "\n",
      "Employees with 0 Trainings have an average performance rating of 3.23 \n",
      " vs Employees with 5 Training(s) who have an average of 3.11 \n",
      " Test Statistic: 120104.5 p-value: 0.003 \n",
      "\n",
      "Employees with 0 Trainings have an average performance rating of 3.23 \n",
      " vs Employees with 6 Training(s) who have an average of 3.12 \n",
      " Test Statistic: 21591.0 p-value: 0.173 \n",
      "\n"
     ]
    }
   ],
   "source": [
    "l = []\n",
    "for i in range(1, 7):\n",
    "\n",
    "        a = L12_df[(L12_df[\"TrainingTimesLastYear\"] == 0)][\"PerformanceRating\"] # Creating test variables\n",
    "        b = df[(df[\"TrainingTimesLastYear\"] == (i))][\"PerformanceRating\"]\n",
    "        \n",
    "        p = stats.mannwhitneyu(a, b).pvalue.round(3) # Simplifying and rounding test statistics \n",
    "        tstat = stats.mannwhitneyu(a, b).statistic.round(3)\n",
    "        \n",
    "    \n",
    "        l.append(p)\n",
    "        print(\"Employees with 0 Trainings have an average performance rating of\", a.mean().round(2), \"\\n\", \n",
    "              \"vs Employees with\", (i), \"Training(s) who have an average of\",b.mean().round(2),\"\\n\", \"Test Statistic:\", tstat,\"p-value:\", p, \"\\n\")\n",
    "\n"
   ]
  },
  {
   "cell_type": "markdown",
   "id": "8f4ebfa6",
   "metadata": {},
   "source": [
    "Considering the sample size here, I'm not surprised that most of these came out with p<.01. In fact, the only one that was not significant was 0 vs 6, in which the latter had a sample size of 103. If I wanted to account for the differences in sample sizes, I would likely take equal sized random samples from the different groups and run the test several hundred times (using a loop, of course) to see how frequently I would get significant results. I don't think the juice would be worth the squeeze though. In fact, running the above tests was probably unnecessary. Even if I could get reliable significance, all it does is confirm the ~.1 difference in ratings across groups, which, by itself, probably doesn't justify the cost of the trainings.\n",
    "\n",
    "\n",
    "\n",
    "So, that does it for hypothesis A, training does not appear to positively impact performance. "
   ]
  },
  {
   "cell_type": "markdown",
   "id": "7d356794",
   "metadata": {},
   "source": [
    "# Engagement and Training\n"
   ]
  },
  {
   "cell_type": "markdown",
   "id": "70aa393b",
   "metadata": {},
   "source": [
    "First up, I'm going to calculate an average of the two columns \"JobSatisifaction\" and \"JobInvolvement\". I want to do this because I don't think either one of these, by themselves, really represent engagement. An average of the two, however, would work as an \"engagement index\" of sorts."
   ]
  },
  {
   "cell_type": "code",
   "execution_count": 26,
   "id": "0c4727e6",
   "metadata": {},
   "outputs": [
    {
     "data": {
      "text/html": [
       "<div>\n",
       "<style scoped>\n",
       "    .dataframe tbody tr th:only-of-type {\n",
       "        vertical-align: middle;\n",
       "    }\n",
       "\n",
       "    .dataframe tbody tr th {\n",
       "        vertical-align: top;\n",
       "    }\n",
       "\n",
       "    .dataframe thead th {\n",
       "        text-align: right;\n",
       "    }\n",
       "</style>\n",
       "<table border=\"1\" class=\"dataframe\">\n",
       "  <thead>\n",
       "    <tr style=\"text-align: right;\">\n",
       "      <th></th>\n",
       "      <th>JobSatisfaction</th>\n",
       "      <th>JobInvolvement</th>\n",
       "      <th>PerformanceRating</th>\n",
       "      <th>TrainingTimesLastYear</th>\n",
       "      <th>JobLevel_updated</th>\n",
       "    </tr>\n",
       "  </thead>\n",
       "  <tbody>\n",
       "    <tr>\n",
       "      <th>0</th>\n",
       "      <td>3</td>\n",
       "      <td>3</td>\n",
       "      <td>4</td>\n",
       "      <td>2</td>\n",
       "      <td>L7</td>\n",
       "    </tr>\n",
       "    <tr>\n",
       "      <th>1</th>\n",
       "      <td>2</td>\n",
       "      <td>3</td>\n",
       "      <td>3</td>\n",
       "      <td>2</td>\n",
       "      <td>L6</td>\n",
       "    </tr>\n",
       "    <tr>\n",
       "      <th>2</th>\n",
       "      <td>4</td>\n",
       "      <td>2</td>\n",
       "      <td>4</td>\n",
       "      <td>4</td>\n",
       "      <td>L6</td>\n",
       "    </tr>\n",
       "    <tr>\n",
       "      <th>3</th>\n",
       "      <td>4</td>\n",
       "      <td>2</td>\n",
       "      <td>3</td>\n",
       "      <td>3</td>\n",
       "      <td>L7</td>\n",
       "    </tr>\n",
       "    <tr>\n",
       "      <th>4</th>\n",
       "      <td>2</td>\n",
       "      <td>2</td>\n",
       "      <td>4</td>\n",
       "      <td>2</td>\n",
       "      <td>L5</td>\n",
       "    </tr>\n",
       "  </tbody>\n",
       "</table>\n",
       "</div>"
      ],
      "text/plain": [
       "   JobSatisfaction  JobInvolvement  PerformanceRating  TrainingTimesLastYear  \\\n",
       "0                3               3                  4                      2   \n",
       "1                2               3                  3                      2   \n",
       "2                4               2                  4                      4   \n",
       "3                4               2                  3                      3   \n",
       "4                2               2                  4                      2   \n",
       "\n",
       "  JobLevel_updated  \n",
       "0               L7  \n",
       "1               L6  \n",
       "2               L6  \n",
       "3               L7  \n",
       "4               L5  "
      ]
     },
     "execution_count": 26,
     "metadata": {},
     "output_type": "execute_result"
    }
   ],
   "source": [
    "df.head()"
   ]
  },
  {
   "cell_type": "code",
   "execution_count": 27,
   "id": "b8e3a5ff",
   "metadata": {},
   "outputs": [],
   "source": [
    "df[\"Eng\"] = (df.iloc[:, 0]+df.iloc[:,1])/2"
   ]
  },
  {
   "cell_type": "code",
   "execution_count": 28,
   "id": "788c24be",
   "metadata": {},
   "outputs": [],
   "source": [
    "df.drop([\"JobSatisfaction\",\"JobInvolvement\"], inplace = True, axis = 1)\n",
    "df.reset_index(inplace = True, drop = True)"
   ]
  },
  {
   "cell_type": "code",
   "execution_count": 29,
   "id": "babca147",
   "metadata": {},
   "outputs": [
    {
     "data": {
      "text/html": [
       "<div>\n",
       "<style scoped>\n",
       "    .dataframe tbody tr th:only-of-type {\n",
       "        vertical-align: middle;\n",
       "    }\n",
       "\n",
       "    .dataframe tbody tr th {\n",
       "        vertical-align: top;\n",
       "    }\n",
       "\n",
       "    .dataframe thead th {\n",
       "        text-align: right;\n",
       "    }\n",
       "</style>\n",
       "<table border=\"1\" class=\"dataframe\">\n",
       "  <thead>\n",
       "    <tr style=\"text-align: right;\">\n",
       "      <th></th>\n",
       "      <th>PerformanceRating</th>\n",
       "      <th>TrainingTimesLastYear</th>\n",
       "      <th>Eng</th>\n",
       "    </tr>\n",
       "  </thead>\n",
       "  <tbody>\n",
       "    <tr>\n",
       "      <th>count</th>\n",
       "      <td>13423.000000</td>\n",
       "      <td>13423.000000</td>\n",
       "      <td>13423.000000</td>\n",
       "    </tr>\n",
       "    <tr>\n",
       "      <th>mean</th>\n",
       "      <td>3.108247</td>\n",
       "      <td>2.454518</td>\n",
       "      <td>2.425687</td>\n",
       "    </tr>\n",
       "    <tr>\n",
       "      <th>std</th>\n",
       "      <td>0.667023</td>\n",
       "      <td>1.069622</td>\n",
       "      <td>0.581761</td>\n",
       "    </tr>\n",
       "    <tr>\n",
       "      <th>min</th>\n",
       "      <td>1.000000</td>\n",
       "      <td>0.000000</td>\n",
       "      <td>1.000000</td>\n",
       "    </tr>\n",
       "    <tr>\n",
       "      <th>25%</th>\n",
       "      <td>3.000000</td>\n",
       "      <td>2.000000</td>\n",
       "      <td>2.000000</td>\n",
       "    </tr>\n",
       "    <tr>\n",
       "      <th>50%</th>\n",
       "      <td>3.000000</td>\n",
       "      <td>2.000000</td>\n",
       "      <td>2.500000</td>\n",
       "    </tr>\n",
       "    <tr>\n",
       "      <th>75%</th>\n",
       "      <td>3.000000</td>\n",
       "      <td>3.000000</td>\n",
       "      <td>3.000000</td>\n",
       "    </tr>\n",
       "    <tr>\n",
       "      <th>max</th>\n",
       "      <td>5.000000</td>\n",
       "      <td>6.000000</td>\n",
       "      <td>4.000000</td>\n",
       "    </tr>\n",
       "  </tbody>\n",
       "</table>\n",
       "</div>"
      ],
      "text/plain": [
       "       PerformanceRating  TrainingTimesLastYear           Eng\n",
       "count       13423.000000           13423.000000  13423.000000\n",
       "mean            3.108247               2.454518      2.425687\n",
       "std             0.667023               1.069622      0.581761\n",
       "min             1.000000               0.000000      1.000000\n",
       "25%             3.000000               2.000000      2.000000\n",
       "50%             3.000000               2.000000      2.500000\n",
       "75%             3.000000               3.000000      3.000000\n",
       "max             5.000000               6.000000      4.000000"
      ]
     },
     "execution_count": 29,
     "metadata": {},
     "output_type": "execute_result"
    }
   ],
   "source": [
    "df.describe()"
   ]
  },
  {
   "cell_type": "code",
   "execution_count": 30,
   "id": "fd0e216c",
   "metadata": {},
   "outputs": [
    {
     "data": {
      "text/plain": [
       "Text(0.5, 1.0, 'Distribution of Engagement')"
      ]
     },
     "execution_count": 30,
     "metadata": {},
     "output_type": "execute_result"
    },
    {
     "data": {
      "image/png": "[encoded data removed]",
      "text/plain": [
       "<Figure size 640x480 with 1 Axes>"
      ]
     },
     "metadata": {},
     "output_type": "display_data"
    }
   ],
   "source": [
    "df[\"Eng\"].hist(bins = bins, color = \"#0F0FF9\", edgecolor = \"white\")\n",
    "plt.title(\"Distribution of Engagement\")"
   ]
  },
  {
   "cell_type": "code",
   "execution_count": 31,
   "id": "abec5d00",
   "metadata": {},
   "outputs": [
    {
     "name": "stdout",
     "output_type": "stream",
     "text": [
      " p-value = 7.840383493426133e-36 \n",
      " This is a non-normal distribution\n"
     ]
    }
   ],
   "source": [
    "nor(df[\"Eng\"])"
   ]
  },
  {
   "cell_type": "markdown",
   "id": "68ac4705",
   "metadata": {},
   "source": [
    "Not only are we seeing another leptokurtic distribution but also another reason to not limit a response scale to four points. This distribution, as well as the performance rating distribution for that matter, are the analytical equivalents of AC/DC's discography. There's not much variation, it's all pretty much \"Thunderstruck\", \"Back in Black\" and \"TNT\".\n",
    "\n",
    "In a perfect world, we'd be working with something closer to Led Zeppelin, in which you still have a lot of \"Communication Breakdown\", \"Black Dog\" but there's still something for everyone, with variation in the form of songs like \"The Rain Song\" and \"Fool in the Rain\".\n",
    "\n",
    "But that's okay, we can work with AC/DC. Now, there's really no need to segment the groups based on job level, as the engagement wouldn't be evaulated against different criteria across org. groups (at least not in any way that can be meaningfully measured). So, I'm going to just look at the average engagement scores across employees with different amounts of training.\n"
   ]
  },
  {
   "cell_type": "code",
   "execution_count": 32,
   "id": "216ba4cf",
   "metadata": {},
   "outputs": [
    {
     "data": {
      "text/plain": [
       "TrainingTimesLastYear\n",
       "0    2.542670\n",
       "1    2.366039\n",
       "2    2.407535\n",
       "3    2.441005\n",
       "4    2.430050\n",
       "5    2.493827\n",
       "6    2.713592\n",
       "Name: Eng, dtype: float64"
      ]
     },
     "execution_count": 32,
     "metadata": {},
     "output_type": "execute_result"
    }
   ],
   "source": [
    "df[\"Eng\"].groupby(df[\"TrainingTimesLastYear\"]).mean()"
   ]
  },
  {
   "cell_type": "code",
   "execution_count": 33,
   "id": "f7723ede",
   "metadata": {},
   "outputs": [
    {
     "data": {
      "text/plain": [
       "TrainingTimesLastYear\n",
       "2    6370\n",
       "3    3602\n",
       "4    1208\n",
       "1    1116\n",
       "5     567\n",
       "0     457\n",
       "6     103\n",
       "Name: count, dtype: int64"
      ]
     },
     "execution_count": 33,
     "metadata": {},
     "output_type": "execute_result"
    }
   ],
   "source": [
    "df[\"TrainingTimesLastYear\"].value_counts()"
   ]
  },
  {
   "cell_type": "markdown",
   "id": "219ab27a",
   "metadata": {},
   "source": [
    "This is looking like a repeat of the performance rating tests. Those with 0 trainings appear to have the highest engagement, except for the group of employees who attended 6 trainings last year. Given that both the 0-training and 6-trainings groups combined make up less than .05% of the company population, it's safe to say that they aren't representative.\n",
    "\n",
    "So, that does it for hypothesis B. Training does not appear to have a positive impact on employee engagement."
   ]
  },
  {
   "cell_type": "markdown",
   "id": "da105ab5",
   "metadata": {},
   "source": [
    "# Wrapping Up"
   ]
  },
  {
   "cell_type": "markdown",
   "id": "ea9d55ed",
   "metadata": {},
   "source": [
    "In short, the trainings offered at this company aren't doing anyone any favors. \n",
    "\n",
    "In fact, I'd recommend an in-depth review of the company's approach to training. Are they mandatory or optional? How is the content selected? Are they delivered in-person or remote? All of these factors could determine the impact and ultimatley, the ROI of the training. Through some employee focus groups and surveys, the director of the training department could get some solid feedback on potential gaps in the training content and delivery. But as it currently stands, they're probably losing money on this training program.\n",
    "\n",
    "Despite the slightly higher performance ratings and engagement scores for the 0-Trainings group, I don't think the trainings themseleves are so poor that they're hurting the performance and causing employees to become disengaged.\n",
    "\n",
    "What may be happening here is the \"0 Trainings\" group is acting as a proxy indicator for newly hired. In other words, these could be new employees who have taken 0 trainings last year because they were not employed by the organization last year. \n",
    "If so, their slightly-higher-than-average performance ratings and engagement scores could be attributed to a \"honeymoon period\", in which they may be new to role. If so, then they're not only more engaged than their tenured collegues, but they're also motivated enough that they exceeded leader expectations for new hires' performance. \n",
    "\n",
    "There you have it, no need to stress to much about those trainings (unless you work with heavy machinery, please pay attention). So, next time you're stuck watching a training video so old that it refers to CDs as \"technology of the future\" feel free to grab a quick power nap or, if you're really board, check out some of [my other projects.](https://github.com/idawud91/Data-Analysis-Projects) \n",
    "\n"
   ]
  },
  {
   "cell_type": "code",
   "execution_count": null,
   "id": "e247efed",
   "metadata": {},
   "outputs": [],
   "source": []
  }
 ],
 "metadata": {
  "kernelspec": {
   "display_name": "Python 3 (ipykernel)",
   "language": "python",
   "name": "python3"
  },
  "language_info": {
   "codemirror_mode": {
    "name": "ipython",
    "version": 3
   },
   "file_extension": ".py",
   "mimetype": "text/x-python",
   "name": "python",
   "nbconvert_exporter": "python",
   "pygments_lexer": "ipython3",
   "version": "3.11.5"
  }
 },
 "nbformat": 4,
 "nbformat_minor": 5
}
