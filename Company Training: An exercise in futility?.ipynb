{
 "cells": [
  {
   "cell_type": "markdown",
   "id": "3ec31845",
   "metadata": {},
   "source": [
    "# Training: An exercise in futility?\n",
    "\n",
    "Regular trainings in organizations tend to be a common aspect of corporate life and are arguably necessary for the ongoing growth of the employees as well as the company as a whole. Though the actual impact of these are difficult to measure. In theory, these trainings should result in new skills, updates on new trends in a given field, increased expsoure to the business for employees outside of operations and even networking/collaboration opportunities. \n",
    "\n",
    "All of these should, in theory, positively impact an individual's performance rating. I'm going to test this, using a dataset from kaggle called \"HR Employee Dataset\", see below for the link. \n",
    "\n"
   ]
  },
  {
   "cell_type": "code",
   "execution_count": 4,
   "id": "55a90e28",
   "metadata": {},
   "outputs": [],
   "source": [
    "import pandas as pd\n",
    "from scipy import stats\n",
    "import numpy as np\n",
    "from matplotlib import pyplot as py\n",
    "#https://www.kaggle.com/datasets/jash312/hr-employee-attrition-datasets?resource=download&select=HR+Employee+data.csv\n",
    "df = pd.read_csv(r\"C:\\Users\\Ian\\Desktop\\HR Employee data.csv\")"
   ]
  },
  {
   "cell_type": "code",
   "execution_count": 5,
   "id": "a1859662",
   "metadata": {},
   "outputs": [
    {
     "data": {
      "text/plain": [
       "Index(['EmployeeID', 'JoiningYear', 'Age', 'BusinessTravel', 'DailyRate',\n",
       "       'Department', 'DistanceFromHome', 'EducationField', 'EmployeeCount',\n",
       "       'EmployeeNumber', 'EnvironmentSatisfaction', 'Gender', 'HourlyRate',\n",
       "       'JobInvolvement', 'JobSatisfaction', 'MaritalStatus', 'MonthlyIncome',\n",
       "       'MonthlyRate', 'NumCompaniesWorked', 'Over18', 'OverTime',\n",
       "       'PercentSalaryHike', 'PerformanceRating', 'RelationshipSatisfaction',\n",
       "       'StandardHours', 'StockOptionLevel', 'TotalWorkingYears',\n",
       "       'TrainingTimesLastYear', 'WorkLifeBalance', 'YearsAtCompany',\n",
       "       'YearsInCurrentRole', 'YearsSinceLastPromotion', 'YearsWithCurrManager',\n",
       "       'Attrition', 'LeavingYear', 'Reason', 'RelievingStatus', 'office_code',\n",
       "       'JobLevel_updated'],\n",
       "      dtype='object')"
      ]
     },
     "execution_count": 5,
     "metadata": {},
     "output_type": "execute_result"
    }
   ],
   "source": [
    "df.columns"
   ]
  },
  {
   "cell_type": "markdown",
   "id": "6940d1f5",
   "metadata": {},
   "source": [
    "\n",
    "## First Look\n",
    "\n",
    "I'm starting off by looking through the columns, as I already know there are several I don't need and I'd like to keep the notebook organized. From what I saw of the file on Kaggle, there were quite a few, many of which could be interesting to include in the analysis. However, to avoid the rabbit hole of scope creep and for the purposes of this analysis, I'll stick with a few basic ones: \n",
    "1. EmployeeID - This could be useful to have as a unique value. \n",
    "2. PerformanceRating - Of course I'll need this one\n",
    "3. TrainingTimesLastYear - This and #2 form the foundation of the analysis \n",
    "4. Joblevel_updated - This may be useful, I may want to segment by job level. It's fair to assume that even though there's a universal rating scale across the company, an executive would not be evaluated on the same criteria as an entry-level employee. \n",
    "    "
   ]
  },
  {
   "cell_type": "code",
   "execution_count": 7,
   "id": "8d0aaea1",
   "metadata": {},
   "outputs": [
    {
     "data": {
      "text/html": [
       "<div>\n",
       "<style scoped>\n",
       "    .dataframe tbody tr th:only-of-type {\n",
       "        vertical-align: middle;\n",
       "    }\n",
       "\n",
       "    .dataframe tbody tr th {\n",
       "        vertical-align: top;\n",
       "    }\n",
       "\n",
       "    .dataframe thead th {\n",
       "        text-align: right;\n",
       "    }\n",
       "</style>\n",
       "<table border=\"1\" class=\"dataframe\">\n",
       "  <thead>\n",
       "    <tr style=\"text-align: right;\">\n",
       "      <th></th>\n",
       "      <th>EmployeeID</th>\n",
       "      <th>PerformanceRating</th>\n",
       "      <th>TrainingTimesLastYear</th>\n",
       "    </tr>\n",
       "  </thead>\n",
       "  <tbody>\n",
       "    <tr>\n",
       "      <th>count</th>\n",
       "      <td>13423.000000</td>\n",
       "      <td>13423.000000</td>\n",
       "      <td>13423.000000</td>\n",
       "    </tr>\n",
       "    <tr>\n",
       "      <th>mean</th>\n",
       "      <td>106711.000000</td>\n",
       "      <td>3.108247</td>\n",
       "      <td>2.454518</td>\n",
       "    </tr>\n",
       "    <tr>\n",
       "      <th>std</th>\n",
       "      <td>3875.030667</td>\n",
       "      <td>0.667023</td>\n",
       "      <td>1.069622</td>\n",
       "    </tr>\n",
       "    <tr>\n",
       "      <th>min</th>\n",
       "      <td>100000.000000</td>\n",
       "      <td>1.000000</td>\n",
       "      <td>0.000000</td>\n",
       "    </tr>\n",
       "    <tr>\n",
       "      <th>25%</th>\n",
       "      <td>103355.500000</td>\n",
       "      <td>3.000000</td>\n",
       "      <td>2.000000</td>\n",
       "    </tr>\n",
       "    <tr>\n",
       "      <th>50%</th>\n",
       "      <td>106711.000000</td>\n",
       "      <td>3.000000</td>\n",
       "      <td>2.000000</td>\n",
       "    </tr>\n",
       "    <tr>\n",
       "      <th>75%</th>\n",
       "      <td>110066.500000</td>\n",
       "      <td>3.000000</td>\n",
       "      <td>3.000000</td>\n",
       "    </tr>\n",
       "    <tr>\n",
       "      <th>max</th>\n",
       "      <td>113422.000000</td>\n",
       "      <td>5.000000</td>\n",
       "      <td>6.000000</td>\n",
       "    </tr>\n",
       "  </tbody>\n",
       "</table>\n",
       "</div>"
      ],
      "text/plain": [
       "          EmployeeID  PerformanceRating  TrainingTimesLastYear\n",
       "count   13423.000000       13423.000000           13423.000000\n",
       "mean   106711.000000           3.108247               2.454518\n",
       "std      3875.030667           0.667023               1.069622\n",
       "min    100000.000000           1.000000               0.000000\n",
       "25%    103355.500000           3.000000               2.000000\n",
       "50%    106711.000000           3.000000               2.000000\n",
       "75%    110066.500000           3.000000               3.000000\n",
       "max    113422.000000           5.000000               6.000000"
      ]
     },
     "execution_count": 7,
     "metadata": {},
     "output_type": "execute_result"
    }
   ],
   "source": [
    "df = pd.concat([df[\"EmployeeID\"], df[\"PerformanceRating\"],df[\"TrainingTimesLastYear\"], df[\"JobLevel_updated\"]], axis = 1)\n",
    "df.describe()"
   ]
  },
  {
   "cell_type": "markdown",
   "id": "62fe9f2a",
   "metadata": {},
   "source": [
    "Based on the above, there are a few things that stand out:\n",
    "1. It looks like the vast majority of employees have a performance rating of 3 out of 5. In my experience, this heavy centrality is common in large companies, which you'd expect to a certain extent, but we can see there's very little deviation from that, to the extent that you could almost consider ratings of 1, 2, 4, and 5 to be outliers. I'm going to start by looking at the distribution of this variable to see if there's anything I can do to make it more test-friendly.\n",
    "2. It also looks like the majoirty of employees have had some type of training. We don't know what kind or the quality of it, but for the purposes of this analysis, I'll assume its job-relevant. \n"
   ]
  },
  {
   "cell_type": "code",
   "execution_count": 25,
   "id": "72855e70",
   "metadata": {},
   "outputs": [
    {
     "data": {
      "image/png": "[encoded data removed]",
      "text/plain": [
       "<Figure size 640x480 with 1 Axes>"
      ]
     },
     "metadata": {},
     "output_type": "display_data"
    }
   ],
   "source": [
    "bins = np.arange(8) - 0.5\n",
    "py.hist(df[\"PerformanceRating\"], bins, color = \"#0F0FF9\", edgecolor = \"white\")\n",
    "py.title(\"Distribution of Performance Ratings\")\n",
    "py.xticks(range(8))\n",
    "\n",
    "py.show()"
   ]
  },
  {
   "cell_type": "code",
   "execution_count": 10,
   "id": "98dd7d96",
   "metadata": {},
   "outputs": [],
   "source": [
    "def nor(var): #Using a custom fuction to be able to retest normality after the transformation \n",
    "    test = stats.normaltest(var)\n",
    "    if (test.pvalue<=.05):\n",
    "        print(\" p-value =\", test.pvalue, \"\\n\",\"This is a non-normal distribution\")\n",
    "    else:\n",
    "        print(\"p-value =\", test.pvalue, \"\\n\", \" .01, this is a normal distribution\" )"
   ]
  },
  {
   "cell_type": "markdown",
   "id": "3613af1d",
   "metadata": {},
   "source": [
    "Unfortunately, this looks like a textbook example of a leptokurtic distribution. Just to be thorough, I'll test for normality. I can try to apply a transformation as well, but with this level of excess kurtosis, the disribution is unlikely to be very malleable. \n"
   ]
  },
  {
   "cell_type": "code",
   "execution_count": 24,
   "id": "d2232e9b",
   "metadata": {},
   "outputs": [
    {
     "name": "stdout",
     "output_type": "stream",
     "text": [
      " p-value = 0.0 \n",
      " This is a non-normal distribution\n"
     ]
    },
    {
     "data": {
      "image/png": "[encoded data removed]",
      "text/plain": [
       "<Figure size 640x480 with 1 Axes>"
      ]
     },
     "metadata": {},
     "output_type": "display_data"
    }
   ],
   "source": [
    "np.log10(df[\"PerformanceRating\"]).hist(color = \"#0F0FF9\", edgecolor = \"white\") #Creating the histogram for a visual look at the distibution\n",
    "py.title(\"Distribution of Performance Ratings (Log10 Transformation)\"), \n",
    "\n",
    "\n",
    "nor(np.log10(df[\"PerformanceRating\"])) # Log base 10 transformation, test for normality "
   ]
  },
  {
   "cell_type": "markdown",
   "id": "e2bb7f4e",
   "metadata": {},
   "source": [
    "Even with the log10 transformation, this is an unfortunate distribution, analytically speaking and in terms of the actual performance appraisals. \n",
    "While you would expect to see the majority of employees in the center, the fact that such a small proportion is above or below that suggests a couple factors might be at play here:\n",
    "1. There are unclear evaluation guidelines. Managers are unsure how they can distinguish between an employee who \"Meets Expectations\" vs. ones who are \"Above Expectations\", for example. So, to avoid issues, the managers may be \"playing it safe\" and rating employees in the middle. \n",
    "2. Managers may have the correct guidence on how to distinguish but not know how to implement it. In other words, they may not feel comfortable explaining to their employees why they might be at a 1 or 2, so instead they just put them at a 3. \n",
    "3. Finally, it could be that performance appraisals are not taken too seriously at this company, that leaders just enter a middle-ground rating to satisfy the requirements of their roles, without much thought. \n",
    "\n",
    "Given that this set of ratings is effectively all 3s with some outliers, my next best bet is probably stratification. \n",
    "Even though there's a common rating scale, there should be different levels of proficiency for each level of seniorty. e.g., Directors are likely evaluated against different standards than entry-level analysts, for example. I'll use the job level variable to see if I can get a more test-friendly sample. \n"
   ]
  },
  {
   "cell_type": "markdown",
   "id": "e5c78700",
   "metadata": {},
   "source": [
    "## A different approach"
   ]
  },
  {
   "cell_type": "code",
   "execution_count": 14,
   "id": "64ac2bf4",
   "metadata": {
    "scrolled": true
   },
   "outputs": [
    {
     "data": {
      "text/html": [
       "<div>\n",
       "<style scoped>\n",
       "    .dataframe tbody tr th:only-of-type {\n",
       "        vertical-align: middle;\n",
       "    }\n",
       "\n",
       "    .dataframe tbody tr th {\n",
       "        vertical-align: top;\n",
       "    }\n",
       "\n",
       "    .dataframe thead th {\n",
       "        text-align: right;\n",
       "    }\n",
       "</style>\n",
       "<table border=\"1\" class=\"dataframe\">\n",
       "  <thead>\n",
       "    <tr style=\"text-align: right;\">\n",
       "      <th></th>\n",
       "      <th></th>\n",
       "      <th>count</th>\n",
       "    </tr>\n",
       "    <tr>\n",
       "      <th>JobLevel_updated</th>\n",
       "      <th>PerformanceRating</th>\n",
       "      <th></th>\n",
       "    </tr>\n",
       "  </thead>\n",
       "  <tbody>\n",
       "    <tr>\n",
       "      <th rowspan=\"5\" valign=\"top\">L1</th>\n",
       "      <th>3</th>\n",
       "      <td>4298</td>\n",
       "    </tr>\n",
       "    <tr>\n",
       "      <th>4</th>\n",
       "      <td>614</td>\n",
       "    </tr>\n",
       "    <tr>\n",
       "      <th>5</th>\n",
       "      <td>499</td>\n",
       "    </tr>\n",
       "    <tr>\n",
       "      <th>2</th>\n",
       "      <td>285</td>\n",
       "    </tr>\n",
       "    <tr>\n",
       "      <th>1</th>\n",
       "      <td>237</td>\n",
       "    </tr>\n",
       "    <tr>\n",
       "      <th rowspan=\"5\" valign=\"top\">L2</th>\n",
       "      <th>3</th>\n",
       "      <td>3791</td>\n",
       "    </tr>\n",
       "    <tr>\n",
       "      <th>4</th>\n",
       "      <td>310</td>\n",
       "    </tr>\n",
       "    <tr>\n",
       "      <th>5</th>\n",
       "      <td>160</td>\n",
       "    </tr>\n",
       "    <tr>\n",
       "      <th>1</th>\n",
       "      <td>88</td>\n",
       "    </tr>\n",
       "    <tr>\n",
       "      <th>2</th>\n",
       "      <td>83</td>\n",
       "    </tr>\n",
       "    <tr>\n",
       "      <th rowspan=\"5\" valign=\"top\">L3</th>\n",
       "      <th>3</th>\n",
       "      <td>1338</td>\n",
       "    </tr>\n",
       "    <tr>\n",
       "      <th>4</th>\n",
       "      <td>136</td>\n",
       "    </tr>\n",
       "    <tr>\n",
       "      <th>5</th>\n",
       "      <td>80</td>\n",
       "    </tr>\n",
       "    <tr>\n",
       "      <th>1</th>\n",
       "      <td>49</td>\n",
       "    </tr>\n",
       "    <tr>\n",
       "      <th>2</th>\n",
       "      <td>46</td>\n",
       "    </tr>\n",
       "    <tr>\n",
       "      <th rowspan=\"4\" valign=\"top\">L4</th>\n",
       "      <th>3</th>\n",
       "      <td>711</td>\n",
       "    </tr>\n",
       "    <tr>\n",
       "      <th>4</th>\n",
       "      <td>37</td>\n",
       "    </tr>\n",
       "    <tr>\n",
       "      <th>2</th>\n",
       "      <td>7</td>\n",
       "    </tr>\n",
       "    <tr>\n",
       "      <th>5</th>\n",
       "      <td>7</td>\n",
       "    </tr>\n",
       "    <tr>\n",
       "      <th rowspan=\"5\" valign=\"top\">L5</th>\n",
       "      <th>3</th>\n",
       "      <td>428</td>\n",
       "    </tr>\n",
       "    <tr>\n",
       "      <th>4</th>\n",
       "      <td>15</td>\n",
       "    </tr>\n",
       "    <tr>\n",
       "      <th>5</th>\n",
       "      <td>2</td>\n",
       "    </tr>\n",
       "    <tr>\n",
       "      <th>2</th>\n",
       "      <td>2</td>\n",
       "    </tr>\n",
       "    <tr>\n",
       "      <th>1</th>\n",
       "      <td>2</td>\n",
       "    </tr>\n",
       "    <tr>\n",
       "      <th rowspan=\"5\" valign=\"top\">L6</th>\n",
       "      <th>3</th>\n",
       "      <td>146</td>\n",
       "    </tr>\n",
       "    <tr>\n",
       "      <th>4</th>\n",
       "      <td>17</td>\n",
       "    </tr>\n",
       "    <tr>\n",
       "      <th>5</th>\n",
       "      <td>11</td>\n",
       "    </tr>\n",
       "    <tr>\n",
       "      <th>2</th>\n",
       "      <td>10</td>\n",
       "    </tr>\n",
       "    <tr>\n",
       "      <th>1</th>\n",
       "      <td>6</td>\n",
       "    </tr>\n",
       "    <tr>\n",
       "      <th rowspan=\"2\" valign=\"top\">L7</th>\n",
       "      <th>3</th>\n",
       "      <td>5</td>\n",
       "    </tr>\n",
       "    <tr>\n",
       "      <th>4</th>\n",
       "      <td>3</td>\n",
       "    </tr>\n",
       "  </tbody>\n",
       "</table>\n",
       "</div>"
      ],
      "text/plain": [
       "                                    count\n",
       "JobLevel_updated PerformanceRating       \n",
       "L1               3                   4298\n",
       "                 4                    614\n",
       "                 5                    499\n",
       "                 2                    285\n",
       "                 1                    237\n",
       "L2               3                   3791\n",
       "                 4                    310\n",
       "                 5                    160\n",
       "                 1                     88\n",
       "                 2                     83\n",
       "L3               3                   1338\n",
       "                 4                    136\n",
       "                 5                     80\n",
       "                 1                     49\n",
       "                 2                     46\n",
       "L4               3                    711\n",
       "                 4                     37\n",
       "                 2                      7\n",
       "                 5                      7\n",
       "L5               3                    428\n",
       "                 4                     15\n",
       "                 5                      2\n",
       "                 2                      2\n",
       "                 1                      2\n",
       "L6               3                    146\n",
       "                 4                     17\n",
       "                 5                     11\n",
       "                 2                     10\n",
       "                 1                      6\n",
       "L7               3                      5\n",
       "                 4                      3"
      ]
     },
     "execution_count": 14,
     "metadata": {},
     "output_type": "execute_result"
    }
   ],
   "source": [
    "pd.DataFrame(df[\"PerformanceRating\"].groupby(df[\"JobLevel_updated\"]).value_counts())"
   ]
  },
  {
   "cell_type": "markdown",
   "id": "19a6ba78",
   "metadata": {},
   "source": [
    "\n",
    "It looks like L1 employees represent a large chunk of the employee population, so I'll continue the analysis focusing on just L1 employees which should at least minimize the leptokurtosis . \n"
   ]
  },
  {
   "cell_type": "code",
   "execution_count": 27,
   "id": "c2585452",
   "metadata": {},
   "outputs": [
    {
     "data": {
      "text/html": [
       "<div>\n",
       "<style scoped>\n",
       "    .dataframe tbody tr th:only-of-type {\n",
       "        vertical-align: middle;\n",
       "    }\n",
       "\n",
       "    .dataframe tbody tr th {\n",
       "        vertical-align: top;\n",
       "    }\n",
       "\n",
       "    .dataframe thead th {\n",
       "        text-align: right;\n",
       "    }\n",
       "</style>\n",
       "<table border=\"1\" class=\"dataframe\">\n",
       "  <thead>\n",
       "    <tr style=\"text-align: right;\">\n",
       "      <th></th>\n",
       "      <th>EmployeeID</th>\n",
       "      <th>PerformanceRating</th>\n",
       "      <th>TrainingTimesLastYear</th>\n",
       "    </tr>\n",
       "  </thead>\n",
       "  <tbody>\n",
       "    <tr>\n",
       "      <th>count</th>\n",
       "      <td>5933.000000</td>\n",
       "      <td>5933.000000</td>\n",
       "      <td>5933.000000</td>\n",
       "    </tr>\n",
       "    <tr>\n",
       "      <th>mean</th>\n",
       "      <td>108169.445980</td>\n",
       "      <td>3.143772</td>\n",
       "      <td>2.450868</td>\n",
       "    </tr>\n",
       "    <tr>\n",
       "      <th>std</th>\n",
       "      <td>3577.835606</td>\n",
       "      <td>0.791940</td>\n",
       "      <td>1.066953</td>\n",
       "    </tr>\n",
       "    <tr>\n",
       "      <th>min</th>\n",
       "      <td>100208.000000</td>\n",
       "      <td>1.000000</td>\n",
       "      <td>0.000000</td>\n",
       "    </tr>\n",
       "    <tr>\n",
       "      <th>25%</th>\n",
       "      <td>105248.000000</td>\n",
       "      <td>3.000000</td>\n",
       "      <td>2.000000</td>\n",
       "    </tr>\n",
       "    <tr>\n",
       "      <th>50%</th>\n",
       "      <td>108624.000000</td>\n",
       "      <td>3.000000</td>\n",
       "      <td>2.000000</td>\n",
       "    </tr>\n",
       "    <tr>\n",
       "      <th>75%</th>\n",
       "      <td>111372.000000</td>\n",
       "      <td>3.000000</td>\n",
       "      <td>3.000000</td>\n",
       "    </tr>\n",
       "    <tr>\n",
       "      <th>max</th>\n",
       "      <td>113420.000000</td>\n",
       "      <td>5.000000</td>\n",
       "      <td>6.000000</td>\n",
       "    </tr>\n",
       "  </tbody>\n",
       "</table>\n",
       "</div>"
      ],
      "text/plain": [
       "          EmployeeID  PerformanceRating  TrainingTimesLastYear\n",
       "count    5933.000000        5933.000000            5933.000000\n",
       "mean   108169.445980           3.143772               2.450868\n",
       "std      3577.835606           0.791940               1.066953\n",
       "min    100208.000000           1.000000               0.000000\n",
       "25%    105248.000000           3.000000               2.000000\n",
       "50%    108624.000000           3.000000               2.000000\n",
       "75%    111372.000000           3.000000               3.000000\n",
       "max    113420.000000           5.000000               6.000000"
      ]
     },
     "execution_count": 27,
     "metadata": {},
     "output_type": "execute_result"
    }
   ],
   "source": [
    "new_df = df[(df[\"JobLevel_updated\"] == \"L1\")]\n",
    "new_df.describe()"
   ]
  },
  {
   "cell_type": "code",
   "execution_count": 26,
   "id": "0a164e10",
   "metadata": {},
   "outputs": [
    {
     "data": {
      "text/plain": [
       "(Text(0.5, 1.0, 'Distribution of Performance Ratings\\n(L1 Employees Only)'),)"
      ]
     },
     "execution_count": 26,
     "metadata": {},
     "output_type": "execute_result"
    },
    {
     "data": {
      "image/png": "[encoded data removed]",
      "text/plain": [
       "<Figure size 640x480 with 1 Axes>"
      ]
     },
     "metadata": {},
     "output_type": "display_data"
    }
   ],
   "source": [
    "pr = new_df[\"PerformanceRating\"] #Creating a variable for this so that it's easier to call \n",
    "\n",
    "pr.hist(bins = bins, color = \"#0F0FF9\", edgecolor = \"white\")\n",
    "py.title(\"Distribution of Performance Ratings\"+\"\\n\"+\"(L1 Employees Only)\"), "
   ]
  },
  {
   "cell_type": "markdown",
   "id": "84226162",
   "metadata": {},
   "source": [
    "This is still a non-normal distibution. I'll need to use a non-parametic test to see if there are any significant group differences, the Mann–Whitney U test should do the trick as these are independent groups. \n",
    "\n"
   ]
  },
  {
   "cell_type": "code",
   "execution_count": 28,
   "id": "8926118f",
   "metadata": {},
   "outputs": [
    {
     "data": {
      "text/html": [
       "<div>\n",
       "<style scoped>\n",
       "    .dataframe tbody tr th:only-of-type {\n",
       "        vertical-align: middle;\n",
       "    }\n",
       "\n",
       "    .dataframe tbody tr th {\n",
       "        vertical-align: top;\n",
       "    }\n",
       "\n",
       "    .dataframe thead th {\n",
       "        text-align: right;\n",
       "    }\n",
       "</style>\n",
       "<table border=\"1\" class=\"dataframe\">\n",
       "  <thead>\n",
       "    <tr style=\"text-align: right;\">\n",
       "      <th></th>\n",
       "      <th>PerformanceRating</th>\n",
       "    </tr>\n",
       "    <tr>\n",
       "      <th>TrainingTimesLastYear</th>\n",
       "      <th></th>\n",
       "    </tr>\n",
       "  </thead>\n",
       "  <tbody>\n",
       "    <tr>\n",
       "      <th>0</th>\n",
       "      <td>3.240664</td>\n",
       "    </tr>\n",
       "    <tr>\n",
       "      <th>1</th>\n",
       "      <td>3.141860</td>\n",
       "    </tr>\n",
       "    <tr>\n",
       "      <th>2</th>\n",
       "      <td>3.150836</td>\n",
       "    </tr>\n",
       "    <tr>\n",
       "      <th>3</th>\n",
       "      <td>3.109951</td>\n",
       "    </tr>\n",
       "    <tr>\n",
       "      <th>4</th>\n",
       "      <td>3.169091</td>\n",
       "    </tr>\n",
       "    <tr>\n",
       "      <th>5</th>\n",
       "      <td>3.137339</td>\n",
       "    </tr>\n",
       "    <tr>\n",
       "      <th>6</th>\n",
       "      <td>3.150000</td>\n",
       "    </tr>\n",
       "  </tbody>\n",
       "</table>\n",
       "</div>"
      ],
      "text/plain": [
       "                       PerformanceRating\n",
       "TrainingTimesLastYear                   \n",
       "0                               3.240664\n",
       "1                               3.141860\n",
       "2                               3.150836\n",
       "3                               3.109951\n",
       "4                               3.169091\n",
       "5                               3.137339\n",
       "6                               3.150000"
      ]
     },
     "execution_count": 28,
     "metadata": {},
     "output_type": "execute_result"
    }
   ],
   "source": [
    "pd.DataFrame(new_df[\"PerformanceRating\"].groupby(new_df[\"TrainingTimesLastYear\"]).mean()) # Grouping but the number of training sessions attended. "
   ]
  },
  {
   "cell_type": "markdown",
   "id": "dbde4631",
   "metadata": {},
   "source": [
    "If trainings did impact ratings, I would expect to see an increase in average ratings as the number of trainings increase. But at first glance, the ratings across all training groups is very close. Interestingly, those with zero trainings have the highest average performance rating, though not by much. At this point, I can probably say that this analysis is inconclusive at best. But just to be thorough, I'd like to test the significance of the \"0 Trainings\" group against the others. I will, of course, be taking the results with a (massive) grain of salt knowing how large the sample is.  \n"
   ]
  },
  {
   "cell_type": "markdown",
   "id": "228eb6bb",
   "metadata": {},
   "source": [
    "## Non-Parametric Testing"
   ]
  },
  {
   "cell_type": "code",
   "execution_count": 19,
   "id": "3ef89f98",
   "metadata": {},
   "outputs": [
    {
     "name": "stdout",
     "output_type": "stream",
     "text": [
      "Ratings for Employees with 0 Trainings n =241 vs Employees with 1 Training(s) n= 1116  \n",
      " Test Statistic: 147150.0 p-value: 0.002 \n",
      "\n",
      "Ratings for Employees with 0 Trainings n =241 vs Employees with 2 Training(s) n= 6370  \n",
      " Test Statistic: 828352.0 p-value: 0.004 \n",
      "\n",
      "Ratings for Employees with 0 Trainings n =241 vs Employees with 3 Training(s) n= 3602  \n",
      " Test Statistic: 476104.0 p-value: 0.0 \n",
      "\n",
      "Ratings for Employees with 0 Trainings n =241 vs Employees with 4 Training(s) n= 1208  \n",
      " Test Statistic: 158377.0 p-value: 0.002 \n",
      "\n",
      "Ratings for Employees with 0 Trainings n =241 vs Employees with 5 Training(s) n= 567  \n",
      " Test Statistic: 74218.5 p-value: 0.005 \n",
      "\n",
      "Ratings for Employees with 0 Trainings n =241 vs Employees with 6 Training(s) n= 103  \n",
      " Test Statistic: 13343.5 p-value: 0.158 \n",
      "\n"
     ]
    }
   ],
   "source": [
    "for i in range(0, 7):\n",
    "    x = (i+1)\n",
    "    if ((i+1)<= 6): # The If-statment here creates a variable I can use as an iterative training group number against 0. \n",
    "\n",
    "        a = new_df[(new_df[\"TrainingTimesLastYear\"] == 0)][\"PerformanceRating\"] # Creating test variables\n",
    "        b = df[(df[\"TrainingTimesLastYear\"] == (x))][\"PerformanceRating\"]\n",
    "        \n",
    "        p = stats.mannwhitneyu(a, b).pvalue.round(3) # Simplifying and rounding test statistics \n",
    "        tstat = stats.mannwhitneyu(a, b).statistic.round(3)\n",
    "        \n",
    "        \n",
    "        print(\"Ratings for Employees with 0 Trainings n =241 vs Employees with\", (x), \"Training(s) n=\",b.value_counts().sum(),\"\", \"\\n\", \"Test Statistic:\", tstat,\"p-value:\", p, \"\\n\")\n",
    "\n"
   ]
  },
  {
   "cell_type": "markdown",
   "id": "fd3923dc",
   "metadata": {},
   "source": [
    "\n",
    "Considering the sample size here, I'm not suprised that most of these came out with p<.01. In fact, the only one that was not significant was 0 vs 6, in which the latter had a sample size of 103. If I wanted to account for the differences in sample sizes, I would likely take equal sized random samples from the different groups and run the test severval hundred times (using a loop, of course) to see how frequently I would get significant results. I don't think the juice would be worth the squeeze though. In fact, running the above tests was unnecessary. Even if I could get reliable significance, all it does is confirm the ~.1 difference in ratings across groups. \n",
    "\n",
    "What may be happening here is the \"0 Trainings\" group is acting as a proxy indicator for newly hired. In other words, these could be new employees who have taken 0 trainings last year because they were not employed by the organization last year. \n",
    "If so, their slightly-higher-than-average performance ratings could be attributed to a \"honeymoon period\", in which they may be new to role and motivated enough that they exceeded leader expectations for new hires. \n",
    "\n",
    "To wrap up, my main take-aways are as follows: \n",
    "1. Considering the data, the performance appraisal process at this company appears to have a bias towards neutral ratings.Based on my own experience executing performance management processes at large organizations this could be due to a number of reasons. What resources are available to leaders to help them with the process? What is the culture around performance management? How and when is this communicated to leaders? What direction are they given prior to starting the process?\n",
    "2. There is no conclusive link between performance ratings and training sessions attended. This could be a result of the point above, or it could reflect ineffective/irrelevent trainings. \n",
    "3. A more useful analysis might consider looking at trainings and more quantifiable performance metrics from a specific functional group. For example, employees in the sales department and individualized annual sales, or Support Desk/IT and support tickets resolved. \n"
   ]
  },
  {
   "cell_type": "code",
   "execution_count": null,
   "id": "eb849c7d",
   "metadata": {},
   "outputs": [],
   "source": []
  }
 ],
 "metadata": {
  "kernelspec": {
   "display_name": "Python 3 (ipykernel)",
   "language": "python",
   "name": "python3"
  },
  "language_info": {
   "codemirror_mode": {
    "name": "ipython",
    "version": 3
   },
   "file_extension": ".py",
   "mimetype": "text/x-python",
   "name": "python",
   "nbconvert_exporter": "python",
   "pygments_lexer": "ipython3",
   "version": "3.11.5"
  }
 },
 "nbformat": 4,
 "nbformat_minor": 5
}
